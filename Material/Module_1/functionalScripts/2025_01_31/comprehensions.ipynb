{
 "cells": [
  {
   "cell_type": "code",
   "execution_count": 1,
   "id": "0ca5e760-bc5d-4088-b1a9-c942c55b5743",
   "metadata": {},
   "outputs": [],
   "source": [
    "nums = [1, 2, 3, 4, 5, 6]"
   ]
  },
  {
   "cell_type": "code",
   "execution_count": 3,
   "id": "1910ae4f-bee3-45c6-9449-dd05e21d2ae1",
   "metadata": {},
   "outputs": [
    {
     "name": "stdout",
     "output_type": "stream",
     "text": [
      "[1, 2, 3, 4, 5, 6]\n"
     ]
    }
   ],
   "source": [
    "myList = list ()\n",
    "\n",
    "for _ in nums:\n",
    "    myList.append (_)\n",
    "\n",
    "print (myList)"
   ]
  },
  {
   "cell_type": "markdown",
   "id": "b96172ba-0e97-46e7-a722-e52e52b1e668",
   "metadata": {},
   "source": [
    "### List Comprehensions"
   ]
  },
  {
   "cell_type": "code",
   "execution_count": 4,
   "id": "f2bf349a-214f-4571-b226-cd2276536675",
   "metadata": {},
   "outputs": [
    {
     "data": {
      "text/plain": [
       "[1, 2, 3, 4, 5, 6]"
      ]
     },
     "execution_count": 4,
     "metadata": {},
     "output_type": "execute_result"
    }
   ],
   "source": [
    "myList = [n for n in nums]\n",
    "myList"
   ]
  },
  {
   "cell_type": "code",
   "execution_count": 5,
   "id": "de9efce5-444d-4563-8a69-0961dbe6f3a1",
   "metadata": {},
   "outputs": [
    {
     "name": "stdout",
     "output_type": "stream",
     "text": [
      "[1, 4, 9, 16, 25, 36]\n"
     ]
    }
   ],
   "source": [
    "myList = list ()\n",
    "\n",
    "for n in nums:\n",
    "    myList.append (n*n)\n",
    "\n",
    "print (myList)"
   ]
  },
  {
   "cell_type": "code",
   "execution_count": 6,
   "id": "f9cd007c-fc17-4cbc-b884-9eb727b4afaa",
   "metadata": {},
   "outputs": [
    {
     "data": {
      "text/plain": [
       "[1, 4, 9, 16, 25, 36]"
      ]
     },
     "execution_count": 6,
     "metadata": {},
     "output_type": "execute_result"
    }
   ],
   "source": [
    "myList = [n*n for n in nums]\n",
    "myList"
   ]
  },
  {
   "cell_type": "markdown",
   "id": "f8909352-98f3-41f6-8f5b-870b7a3fba6f",
   "metadata": {},
   "source": [
    "### Map Function"
   ]
  },
  {
   "cell_type": "code",
   "execution_count": 8,
   "id": "659dc948-69cd-4019-8859-cbfbac75bf06",
   "metadata": {},
   "outputs": [
    {
     "data": {
      "text/plain": [
       "[1, 4, 9, 16, 25, 36]"
      ]
     },
     "execution_count": 8,
     "metadata": {},
     "output_type": "execute_result"
    }
   ],
   "source": [
    "def iteratorFunction (inputNumber):\n",
    "    return inputNumber * inputNumber\n",
    "\n",
    "myList = map (iteratorFunction, nums)\n",
    "list (myList)"
   ]
  },
  {
   "cell_type": "markdown",
   "id": "9b27ca75-2318-4316-892a-117113c95d16",
   "metadata": {},
   "source": [
    "### Map and Lambda Function together"
   ]
  },
  {
   "cell_type": "code",
   "execution_count": 9,
   "id": "d79a88f4-9d1b-482d-9c01-2177af0390e6",
   "metadata": {},
   "outputs": [
    {
     "data": {
      "text/plain": [
       "[1, 4, 9, 16, 25, 36]"
      ]
     },
     "execution_count": 9,
     "metadata": {},
     "output_type": "execute_result"
    }
   ],
   "source": [
    "myList = map (lambda n : n*n, nums)\n",
    "list (myList)"
   ]
  },
  {
   "cell_type": "markdown",
   "id": "09bd3f6c-e9b5-419c-887e-432fde5af3d3",
   "metadata": {},
   "source": [
    "### Filter Function"
   ]
  },
  {
   "cell_type": "markdown",
   "id": "1a9e19c8-f648-430b-8b92-37da8aeffe21",
   "metadata": {},
   "source": [
    "##### Filtering function, filters out using boolean values"
   ]
  },
  {
   "cell_type": "code",
   "execution_count": 10,
   "id": "7dc669af-6da8-42c8-8479-78301929e1cf",
   "metadata": {},
   "outputs": [
    {
     "data": {
      "text/plain": [
       "[2, 4, 6]"
      ]
     },
     "execution_count": 10,
     "metadata": {},
     "output_type": "execute_result"
    }
   ],
   "source": [
    "def filteringFunction (inputNumber):\n",
    "    if inputNumber % 2 == 0:\n",
    "        return True\n",
    "    else:\n",
    "        return False\n",
    "\n",
    "evenNumbers = filter (filteringFunction, nums)\n",
    "list (evenNumbers)"
   ]
  },
  {
   "cell_type": "markdown",
   "id": "f3c90eed-e7b6-4a4b-b5b8-a950c8b4aaf5",
   "metadata": {},
   "source": [
    "### Using filter and lambda"
   ]
  },
  {
   "cell_type": "code",
   "execution_count": 11,
   "id": "d4d4627a-e721-4421-aa5a-a3d1d0f2ffbc",
   "metadata": {},
   "outputs": [
    {
     "data": {
      "text/plain": [
       "[2, 4, 6]"
      ]
     },
     "execution_count": 11,
     "metadata": {},
     "output_type": "execute_result"
    }
   ],
   "source": [
    "evenNumbers = filter (lambda n : n % 2 == 0, nums)\n",
    "list (evenNumbers)"
   ]
  },
  {
   "cell_type": "markdown",
   "id": "cbc2c4be-5ec0-428d-85c0-fb93847b8820",
   "metadata": {},
   "source": [
    "#### Can you use 2 lists, to make one dictionary"
   ]
  },
  {
   "cell_type": "code",
   "execution_count": 12,
   "id": "dc279087-d7f0-49b4-b5a4-cebda5a535ea",
   "metadata": {},
   "outputs": [],
   "source": [
    "names = ['Peter Parker', 'Norman Osbourn', 'Otto Octavius']\n",
    "identity = ['Spiderman', 'Green Goblin', 'Dr. Octopus']"
   ]
  },
  {
   "cell_type": "code",
   "execution_count": 14,
   "id": "8f300995-ea12-4174-a2cf-5df28238e6cf",
   "metadata": {},
   "outputs": [
    {
     "data": {
      "text/plain": [
       "[('Peter Parker', 'Spiderman'),\n",
       " ('Norman Osbourn', 'Green Goblin'),\n",
       " ('Otto Octavius', 'Dr. Octopus')]"
      ]
     },
     "execution_count": 14,
     "metadata": {},
     "output_type": "execute_result"
    }
   ],
   "source": [
    "list (zip (names, identity))"
   ]
  },
  {
   "cell_type": "code",
   "execution_count": 15,
   "id": "d99f7083-46b5-4ec0-9bd7-8ce04554aaa2",
   "metadata": {},
   "outputs": [
    {
     "data": {
      "text/plain": [
       "{'Peter Parker': 'Spiderman',\n",
       " 'Norman Osbourn': 'Green Goblin',\n",
       " 'Otto Octavius': 'Dr. Octopus'}"
      ]
     },
     "execution_count": 15,
     "metadata": {},
     "output_type": "execute_result"
    }
   ],
   "source": [
    "myDict = dict ()\n",
    "\n",
    "for n, i in zip (names, identity):\n",
    "    myDict[n] = i\n",
    "\n",
    "myDict"
   ]
  },
  {
   "cell_type": "markdown",
   "id": "48ef31cd-fd73-4c27-87f9-5b2c87f203db",
   "metadata": {},
   "source": [
    "### Dictionary Comprehension"
   ]
  },
  {
   "cell_type": "code",
   "execution_count": 16,
   "id": "02c4f1ea-c4b5-44fe-9727-9241836a8135",
   "metadata": {},
   "outputs": [
    {
     "data": {
      "text/plain": [
       "{'Peter Parker': 'Spiderman',\n",
       " 'Norman Osbourn': 'Green Goblin',\n",
       " 'Otto Octavius': 'Dr. Octopus'}"
      ]
     },
     "execution_count": 16,
     "metadata": {},
     "output_type": "execute_result"
    }
   ],
   "source": [
    "myDict = {n:i for n, i in zip (names, identity)}\n",
    "myDict"
   ]
  },
  {
   "cell_type": "markdown",
   "id": "f1215a33-3aa6-4663-91dc-4920b472a976",
   "metadata": {},
   "source": [
    "### Sets derived from Lists"
   ]
  },
  {
   "cell_type": "code",
   "execution_count": 17,
   "id": "a18067e6-11c6-464a-8180-e24ca02f0fe3",
   "metadata": {},
   "outputs": [],
   "source": [
    "genericSet = [1, 1, 2, 2, 3, 4]"
   ]
  },
  {
   "cell_type": "code",
   "execution_count": 18,
   "id": "c9b822a7-c596-44c3-a654-2f5b47047af2",
   "metadata": {},
   "outputs": [
    {
     "data": {
      "text/plain": [
       "{1, 2, 3, 4}"
      ]
     },
     "execution_count": 18,
     "metadata": {},
     "output_type": "execute_result"
    }
   ],
   "source": [
    "mySet = set ()\n",
    "\n",
    "for i in genericSet:\n",
    "    mySet.add (i)\n",
    "\n",
    "mySet"
   ]
  },
  {
   "cell_type": "markdown",
   "id": "8a9acf32-8de0-4e55-ab77-36812ba413b0",
   "metadata": {},
   "source": [
    "### Set Comprehension"
   ]
  },
  {
   "cell_type": "code",
   "execution_count": 19,
   "id": "36e19975-7ac4-4725-876a-f250c24a30f8",
   "metadata": {},
   "outputs": [
    {
     "data": {
      "text/plain": [
       "{1, 2, 3, 4}"
      ]
     },
     "execution_count": 19,
     "metadata": {},
     "output_type": "execute_result"
    }
   ],
   "source": [
    "mySet = {g for g in genericSet}\n",
    "mySet"
   ]
  },
  {
   "cell_type": "code",
   "execution_count": null,
   "id": "81841955-a9fc-43a5-98a2-6334c6ebd564",
   "metadata": {},
   "outputs": [],
   "source": []
  }
 ],
 "metadata": {
  "kernelspec": {
   "display_name": "Python 3 (ipykernel)",
   "language": "python",
   "name": "python3"
  },
  "language_info": {
   "codemirror_mode": {
    "name": "ipython",
    "version": 3
   },
   "file_extension": ".py",
   "mimetype": "text/x-python",
   "name": "python",
   "nbconvert_exporter": "python",
   "pygments_lexer": "ipython3",
   "version": "3.11.5"
  }
 },
 "nbformat": 4,
 "nbformat_minor": 5
}
