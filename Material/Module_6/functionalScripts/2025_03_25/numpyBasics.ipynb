{
 "cells": [
  {
   "cell_type": "code",
   "execution_count": 1,
   "id": "2c055505-120e-4b25-b4ab-0067c9e49cc9",
   "metadata": {},
   "outputs": [
    {
     "name": "stdout",
     "output_type": "stream",
     "text": [
      "Requirement already satisfied: numpy in c:\\users\\admin\\appdata\\local\\programs\\python\\python311\\lib\\site-packages (1.26.0)\n"
     ]
    }
   ],
   "source": [
    "!pip install numpy"
   ]
  },
  {
   "cell_type": "code",
   "execution_count": 2,
   "id": "b02feca7-a85e-41a7-80ba-705982c6d183",
   "metadata": {},
   "outputs": [],
   "source": [
    "import numpy as np"
   ]
  },
  {
   "cell_type": "code",
   "execution_count": 3,
   "id": "c8c718a8-8944-4057-b912-95836dcc9583",
   "metadata": {},
   "outputs": [],
   "source": [
    "basicArray = np.array ([1, 2, 3], dtype = 'int32')"
   ]
  },
  {
   "cell_type": "code",
   "execution_count": 4,
   "id": "43579a64-642c-4309-92ef-d4f382fc86be",
   "metadata": {},
   "outputs": [
    {
     "data": {
      "text/plain": [
       "array([1, 2, 3])"
      ]
     },
     "execution_count": 4,
     "metadata": {},
     "output_type": "execute_result"
    }
   ],
   "source": [
    "basicArray"
   ]
  },
  {
   "cell_type": "code",
   "execution_count": 5,
   "id": "49034d03-41c1-47b2-b662-372fc6b93d06",
   "metadata": {},
   "outputs": [],
   "source": [
    "anotherArray = np.array ([[9.0, 8.0, 7.0], [6.0, 5.0, 4.0]])"
   ]
  },
  {
   "cell_type": "code",
   "execution_count": 6,
   "id": "fe563396-b40b-415c-a0b5-eab6ea78a7f6",
   "metadata": {},
   "outputs": [
    {
     "data": {
      "text/plain": [
       "array([[9., 8., 7.],\n",
       "       [6., 5., 4.]])"
      ]
     },
     "execution_count": 6,
     "metadata": {},
     "output_type": "execute_result"
    }
   ],
   "source": [
    "anotherArray"
   ]
  },
  {
   "cell_type": "code",
   "execution_count": 7,
   "id": "80329847-5210-4cdd-8fcd-d516e534e1a8",
   "metadata": {},
   "outputs": [
    {
     "data": {
      "text/plain": [
       "2"
      ]
     },
     "execution_count": 7,
     "metadata": {},
     "output_type": "execute_result"
    }
   ],
   "source": [
    "anotherArray.ndim"
   ]
  },
  {
   "cell_type": "code",
   "execution_count": 8,
   "id": "255903d5-7143-4b72-b8ce-9a92723df81e",
   "metadata": {},
   "outputs": [
    {
     "data": {
      "text/plain": [
       "(2, 3)"
      ]
     },
     "execution_count": 8,
     "metadata": {},
     "output_type": "execute_result"
    }
   ],
   "source": [
    "anotherArray.shape"
   ]
  },
  {
   "cell_type": "code",
   "execution_count": 9,
   "id": "9b28b127-42c8-4381-8d48-49001233d033",
   "metadata": {},
   "outputs": [
    {
     "data": {
      "text/plain": [
       "dtype('float64')"
      ]
     },
     "execution_count": 9,
     "metadata": {},
     "output_type": "execute_result"
    }
   ],
   "source": [
    "anotherArray.dtype"
   ]
  },
  {
   "cell_type": "code",
   "execution_count": 10,
   "id": "ff9b3e38-49cc-4878-bec7-9634ef0a2dab",
   "metadata": {},
   "outputs": [
    {
     "data": {
      "text/plain": [
       "8"
      ]
     },
     "execution_count": 10,
     "metadata": {},
     "output_type": "execute_result"
    }
   ],
   "source": [
    "anotherArray.itemsize"
   ]
  },
  {
   "cell_type": "code",
   "execution_count": 12,
   "id": "207e5099-72a1-42b3-bbbe-c974aee779f1",
   "metadata": {},
   "outputs": [
    {
     "data": {
      "text/plain": [
       "48"
      ]
     },
     "execution_count": 12,
     "metadata": {},
     "output_type": "execute_result"
    }
   ],
   "source": [
    "anotherArray.nbytes"
   ]
  },
  {
   "cell_type": "code",
   "execution_count": 13,
   "id": "8d7296bb-0b63-42a7-97d9-d1c6dd84c039",
   "metadata": {},
   "outputs": [
    {
     "data": {
      "text/plain": [
       "6"
      ]
     },
     "execution_count": 13,
     "metadata": {},
     "output_type": "execute_result"
    }
   ],
   "source": [
    "anotherArray.size"
   ]
  },
  {
   "cell_type": "markdown",
   "id": "91e4ef86-d303-4eb7-a408-c72999651aaf",
   "metadata": {},
   "source": [
    "### Extraction of element"
   ]
  },
  {
   "cell_type": "code",
   "execution_count": 14,
   "id": "a728c9a5-fe1b-4f7b-8ede-4eb28f2fbf69",
   "metadata": {},
   "outputs": [
    {
     "data": {
      "text/plain": [
       "array([[9., 8., 7.],\n",
       "       [6., 5., 4.]])"
      ]
     },
     "execution_count": 14,
     "metadata": {},
     "output_type": "execute_result"
    }
   ],
   "source": [
    "anotherArray"
   ]
  },
  {
   "cell_type": "code",
   "execution_count": 15,
   "id": "f34e31f8-ac13-4ac9-a562-bbc817477387",
   "metadata": {},
   "outputs": [
    {
     "data": {
      "text/plain": [
       "5.0"
      ]
     },
     "execution_count": 15,
     "metadata": {},
     "output_type": "execute_result"
    }
   ],
   "source": [
    "anotherArray[1, 1]"
   ]
  },
  {
   "cell_type": "code",
   "execution_count": 16,
   "id": "e70c4180-09cb-44fc-9d05-31fdbfb25011",
   "metadata": {},
   "outputs": [
    {
     "data": {
      "text/plain": [
       "array([9., 8., 7.])"
      ]
     },
     "execution_count": 16,
     "metadata": {},
     "output_type": "execute_result"
    }
   ],
   "source": [
    "anotherArray[0, :]"
   ]
  },
  {
   "cell_type": "code",
   "execution_count": 17,
   "id": "72580a75-536b-4775-bd51-16d9cd54bcbb",
   "metadata": {},
   "outputs": [
    {
     "data": {
      "text/plain": [
       "array([8., 5.])"
      ]
     },
     "execution_count": 17,
     "metadata": {},
     "output_type": "execute_result"
    }
   ],
   "source": [
    "anotherArray[:, 1]"
   ]
  },
  {
   "cell_type": "code",
   "execution_count": 19,
   "id": "e4bdd260-8690-4818-9328-a00de5729b08",
   "metadata": {},
   "outputs": [
    {
     "data": {
      "text/plain": [
       "array([8.])"
      ]
     },
     "execution_count": 19,
     "metadata": {},
     "output_type": "execute_result"
    }
   ],
   "source": [
    "### [row, startindex : endindex : steps]\n",
    "anotherArray[0, 1:-1:2]"
   ]
  },
  {
   "cell_type": "code",
   "execution_count": 20,
   "id": "10f48f80-c22e-4b43-aee2-47b59200d70a",
   "metadata": {},
   "outputs": [
    {
     "data": {
      "text/plain": [
       "array([[9., 8., 7.],\n",
       "       [6., 5., 4.]])"
      ]
     },
     "execution_count": 20,
     "metadata": {},
     "output_type": "execute_result"
    }
   ],
   "source": [
    "anotherArray"
   ]
  },
  {
   "cell_type": "code",
   "execution_count": 21,
   "id": "312c8dfe-777e-4365-ac6d-a429113f9d1f",
   "metadata": {},
   "outputs": [],
   "source": [
    "anotherArray[1, 1] = 20"
   ]
  },
  {
   "cell_type": "code",
   "execution_count": 22,
   "id": "cd84254c-c321-4bdc-877f-44c6de5acc27",
   "metadata": {},
   "outputs": [
    {
     "data": {
      "text/plain": [
       "array([[ 9.,  8.,  7.],\n",
       "       [ 6., 20.,  4.]])"
      ]
     },
     "execution_count": 22,
     "metadata": {},
     "output_type": "execute_result"
    }
   ],
   "source": [
    "anotherArray"
   ]
  },
  {
   "cell_type": "code",
   "execution_count": 26,
   "id": "c09fa193-d59e-4f71-899e-cb08823e5867",
   "metadata": {},
   "outputs": [],
   "source": [
    "three = np.array ([[[1, 2], [3, 4]], [[5, 6], [7, 8]]])"
   ]
  },
  {
   "cell_type": "code",
   "execution_count": 27,
   "id": "edfbf605-7d1b-4f55-a5ea-314dd06f1ba5",
   "metadata": {},
   "outputs": [
    {
     "data": {
      "text/plain": [
       "(2, 2, 2)"
      ]
     },
     "execution_count": 27,
     "metadata": {},
     "output_type": "execute_result"
    }
   ],
   "source": [
    "three.shape"
   ]
  },
  {
   "cell_type": "code",
   "execution_count": 28,
   "id": "30e7944c-2d3d-4b2d-8424-bedfb9104bfe",
   "metadata": {},
   "outputs": [
    {
     "data": {
      "text/plain": [
       "array([[[1, 2],\n",
       "        [3, 4]],\n",
       "\n",
       "       [[5, 6],\n",
       "        [7, 8]]])"
      ]
     },
     "execution_count": 28,
     "metadata": {},
     "output_type": "execute_result"
    }
   ],
   "source": [
    "three"
   ]
  },
  {
   "cell_type": "code",
   "execution_count": 29,
   "id": "e8b8cf46-660a-4ff5-90b2-5e0d2ebe97e1",
   "metadata": {},
   "outputs": [
    {
     "data": {
      "text/plain": [
       "4"
      ]
     },
     "execution_count": 29,
     "metadata": {},
     "output_type": "execute_result"
    }
   ],
   "source": [
    "three[0, 1, 1]"
   ]
  },
  {
   "cell_type": "code",
   "execution_count": 30,
   "id": "48ac67af-957b-4f1e-8e5d-50c662861dd8",
   "metadata": {},
   "outputs": [],
   "source": [
    "three[:, 1, :] = [[9, 8], [8, 8]]"
   ]
  },
  {
   "cell_type": "code",
   "execution_count": 31,
   "id": "c2633c48-4b3b-4792-ae65-d5e56c3079d3",
   "metadata": {},
   "outputs": [
    {
     "data": {
      "text/plain": [
       "array([[[1, 2],\n",
       "        [9, 8]],\n",
       "\n",
       "       [[5, 6],\n",
       "        [8, 8]]])"
      ]
     },
     "execution_count": 31,
     "metadata": {},
     "output_type": "execute_result"
    }
   ],
   "source": [
    "three"
   ]
  },
  {
   "cell_type": "markdown",
   "id": "9579c050-da87-4f5c-afbf-8cb076d42281",
   "metadata": {},
   "source": [
    "### Data Science oriented methods"
   ]
  },
  {
   "cell_type": "code",
   "execution_count": 32,
   "id": "6cd62713-acfe-4103-853c-b3fe811e43e5",
   "metadata": {},
   "outputs": [
    {
     "data": {
      "text/plain": [
       "array([[0., 0., 0.],\n",
       "       [0., 0., 0.]])"
      ]
     },
     "execution_count": 32,
     "metadata": {},
     "output_type": "execute_result"
    }
   ],
   "source": [
    "np.zeros ((2, 3))"
   ]
  },
  {
   "cell_type": "code",
   "execution_count": 33,
   "id": "183d38c5-0d38-4311-93be-4f716aab6b95",
   "metadata": {},
   "outputs": [
    {
     "data": {
      "text/plain": [
       "array([[[1, 1],\n",
       "        [1, 1]],\n",
       "\n",
       "       [[1, 1],\n",
       "        [1, 1]],\n",
       "\n",
       "       [[1, 1],\n",
       "        [1, 1]],\n",
       "\n",
       "       [[1, 1],\n",
       "        [1, 1]]])"
      ]
     },
     "execution_count": 33,
     "metadata": {},
     "output_type": "execute_result"
    }
   ],
   "source": [
    "np.ones ((4, 2, 2), dtype = 'int32')"
   ]
  },
  {
   "cell_type": "code",
   "execution_count": 34,
   "id": "66572347-8607-4bdb-81bf-f387626bd6c3",
   "metadata": {},
   "outputs": [
    {
     "data": {
      "text/plain": [
       "array([[99, 99],\n",
       "       [99, 99]])"
      ]
     },
     "execution_count": 34,
     "metadata": {},
     "output_type": "execute_result"
    }
   ],
   "source": [
    "np.full ((2, 2), 99)"
   ]
  },
  {
   "cell_type": "code",
   "execution_count": 35,
   "id": "4e5c9f00-997b-4936-807e-bbfdff8607bd",
   "metadata": {},
   "outputs": [
    {
     "data": {
      "text/plain": [
       "array([[ 9.,  8.,  7.],\n",
       "       [ 6., 20.,  4.]])"
      ]
     },
     "execution_count": 35,
     "metadata": {},
     "output_type": "execute_result"
    }
   ],
   "source": [
    "anotherArray"
   ]
  },
  {
   "cell_type": "code",
   "execution_count": 36,
   "id": "30d540fe-5561-45c9-9ae6-075517209a49",
   "metadata": {},
   "outputs": [
    {
     "data": {
      "text/plain": [
       "array([[4., 4., 4.],\n",
       "       [4., 4., 4.]])"
      ]
     },
     "execution_count": 36,
     "metadata": {},
     "output_type": "execute_result"
    }
   ],
   "source": [
    "np.full_like (anotherArray, 4)"
   ]
  },
  {
   "cell_type": "code",
   "execution_count": 39,
   "id": "7225559e-3c89-47e7-973f-b64c106a6878",
   "metadata": {},
   "outputs": [
    {
     "data": {
      "text/plain": [
       "array([[0.13044173, 0.43315076],\n",
       "       [0.68552165, 0.95968997],\n",
       "       [0.83480258, 0.19054515],\n",
       "       [0.2211441 , 0.37999552]])"
      ]
     },
     "execution_count": 39,
     "metadata": {},
     "output_type": "execute_result"
    }
   ],
   "source": [
    "np.random.rand (4, 2)"
   ]
  },
  {
   "cell_type": "code",
   "execution_count": 43,
   "id": "5961311c-b057-48b8-b4ef-40df6832cc9b",
   "metadata": {},
   "outputs": [
    {
     "data": {
      "text/plain": [
       "array([[-4, -4,  0],\n",
       "       [-2,  6, -2],\n",
       "       [ 2, -1, -1]])"
      ]
     },
     "execution_count": 43,
     "metadata": {},
     "output_type": "execute_result"
    }
   ],
   "source": [
    "np.random.randint (-4, 8, size = (3, 3))"
   ]
  },
  {
   "cell_type": "code",
   "execution_count": 44,
   "id": "bba77df3-3c27-42e7-bca2-e0af3ad8a6fa",
   "metadata": {},
   "outputs": [
    {
     "data": {
      "text/plain": [
       "array([[1., 0., 0., 0., 0.],\n",
       "       [0., 1., 0., 0., 0.],\n",
       "       [0., 0., 1., 0., 0.],\n",
       "       [0., 0., 0., 1., 0.],\n",
       "       [0., 0., 0., 0., 1.]])"
      ]
     },
     "execution_count": 44,
     "metadata": {},
     "output_type": "execute_result"
    }
   ],
   "source": [
    "np.identity (5)"
   ]
  },
  {
   "cell_type": "markdown",
   "id": "bdf49ee8-f159-40e1-9c9e-bdc29b7c044f",
   "metadata": {},
   "source": [
    "### Math Operations"
   ]
  },
  {
   "cell_type": "code",
   "execution_count": 45,
   "id": "af35134e-4f27-4370-b4b8-aaef30cbc064",
   "metadata": {},
   "outputs": [],
   "source": [
    "randomArray = np.array ([1, 2, 3, 4])"
   ]
  },
  {
   "cell_type": "code",
   "execution_count": 46,
   "id": "a274fab6-35d2-4d0a-950f-40bb2a7cae6a",
   "metadata": {},
   "outputs": [
    {
     "data": {
      "text/plain": [
       "array([1, 2, 3, 4])"
      ]
     },
     "execution_count": 46,
     "metadata": {},
     "output_type": "execute_result"
    }
   ],
   "source": [
    "randomArray"
   ]
  },
  {
   "cell_type": "code",
   "execution_count": 47,
   "id": "5f01820a-e0f2-4496-8ec5-c1fcb6145e07",
   "metadata": {},
   "outputs": [
    {
     "data": {
      "text/plain": [
       "array([3, 4, 5, 6])"
      ]
     },
     "execution_count": 47,
     "metadata": {},
     "output_type": "execute_result"
    }
   ],
   "source": [
    "randomArray + 2"
   ]
  },
  {
   "cell_type": "code",
   "execution_count": 48,
   "id": "5a928208-25dd-4d12-8d26-0761369e6262",
   "metadata": {},
   "outputs": [
    {
     "data": {
      "text/plain": [
       "array([-1,  0,  1,  2])"
      ]
     },
     "execution_count": 48,
     "metadata": {},
     "output_type": "execute_result"
    }
   ],
   "source": [
    "randomArray - 2"
   ]
  },
  {
   "cell_type": "code",
   "execution_count": 49,
   "id": "c3652f70-4767-4bf0-8d9a-12f5de27ff0f",
   "metadata": {},
   "outputs": [
    {
     "data": {
      "text/plain": [
       "array([2, 4, 6, 8])"
      ]
     },
     "execution_count": 49,
     "metadata": {},
     "output_type": "execute_result"
    }
   ],
   "source": [
    "randomArray * 2"
   ]
  },
  {
   "cell_type": "code",
   "execution_count": 50,
   "id": "e1649756-776d-40ed-a6a8-b423f0054009",
   "metadata": {},
   "outputs": [
    {
     "data": {
      "text/plain": [
       "array([ 0.54030231, -0.41614684, -0.9899925 , -0.65364362])"
      ]
     },
     "execution_count": 50,
     "metadata": {},
     "output_type": "execute_result"
    }
   ],
   "source": [
    "np.cos (randomArray)"
   ]
  },
  {
   "cell_type": "markdown",
   "id": "f70b7447-50bd-4850-b350-54231f2a40e3",
   "metadata": {},
   "source": [
    "### Linear Algebra"
   ]
  },
  {
   "cell_type": "code",
   "execution_count": null,
   "id": "546c5f7e-797a-4c45-b544-a3b96bb8b910",
   "metadata": {},
   "outputs": [],
   "source": []
  },
  {
   "cell_type": "code",
   "execution_count": null,
   "id": "39632060-8b7a-4cd0-9a14-0b241d16887c",
   "metadata": {},
   "outputs": [],
   "source": []
  },
  {
   "cell_type": "code",
   "execution_count": null,
   "id": "1ab8f82e-72f4-4f43-b2fb-ad4e12932e2a",
   "metadata": {},
   "outputs": [],
   "source": []
  },
  {
   "cell_type": "code",
   "execution_count": null,
   "id": "622d8d7d-baaf-409d-bac5-034751ad2f6c",
   "metadata": {},
   "outputs": [],
   "source": []
  },
  {
   "cell_type": "code",
   "execution_count": null,
   "id": "e2b7698c-4585-4c59-810d-62d32cf1e2dc",
   "metadata": {},
   "outputs": [],
   "source": []
  },
  {
   "cell_type": "code",
   "execution_count": null,
   "id": "b30f6a21-e1a1-4b8a-869f-635b60c9e46e",
   "metadata": {},
   "outputs": [],
   "source": []
  }
 ],
 "metadata": {
  "kernelspec": {
   "display_name": "Python 3 (ipykernel)",
   "language": "python",
   "name": "python3"
  },
  "language_info": {
   "codemirror_mode": {
    "name": "ipython",
    "version": 3
   },
   "file_extension": ".py",
   "mimetype": "text/x-python",
   "name": "python",
   "nbconvert_exporter": "python",
   "pygments_lexer": "ipython3",
   "version": "3.11.5"
  }
 },
 "nbformat": 4,
 "nbformat_minor": 5
}
