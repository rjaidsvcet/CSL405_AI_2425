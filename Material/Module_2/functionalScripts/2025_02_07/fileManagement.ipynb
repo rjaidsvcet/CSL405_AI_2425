{
 "cells": [
  {
   "cell_type": "code",
   "execution_count": 3,
   "id": "5455b043-9821-4481-8388-5fe2a59f3683",
   "metadata": {},
   "outputs": [],
   "source": [
    "file = open ('./file.txt', 'w')\n",
    "file.write ('Hello World')\n",
    "file.close ()"
   ]
  },
  {
   "cell_type": "code",
   "execution_count": 4,
   "id": "738128e1-b6f1-42cc-8e08-a2d8d61367c8",
   "metadata": {},
   "outputs": [
    {
     "name": "stdout",
     "output_type": "stream",
     "text": [
      "Hello World\n"
     ]
    }
   ],
   "source": [
    "file = open ('./file.txt', 'r')\n",
    "content = file.read ()\n",
    "print (content)\n",
    "file.close ()"
   ]
  },
  {
   "cell_type": "markdown",
   "id": "01004fde-f7b1-47d7-8dcc-588a91c4e5ea",
   "metadata": {},
   "source": [
    "#### Binary Structures"
   ]
  },
  {
   "cell_type": "code",
   "execution_count": 5,
   "id": "37447fdf-a759-4ad6-8ebc-172c280308f8",
   "metadata": {},
   "outputs": [
    {
     "name": "stdout",
     "output_type": "stream",
     "text": [
      "b'Hello World'\n"
     ]
    }
   ],
   "source": [
    "file = open ('./file.txt', 'rb')\n",
    "content = file.read ()\n",
    "print (content)\n",
    "file.close ()"
   ]
  },
  {
   "cell_type": "markdown",
   "id": "ef6b9636-c369-45fa-8a23-66003d3ccbf3",
   "metadata": {},
   "source": [
    "#### Append Function"
   ]
  },
  {
   "cell_type": "code",
   "execution_count": 6,
   "id": "e1af3c29-7f8b-4420-a6a8-6c1ec36fe20e",
   "metadata": {},
   "outputs": [],
   "source": [
    "file = open ('./file.txt', 'a')\n",
    "file.write ('\\nAdding new line')\n",
    "file.close ()"
   ]
  },
  {
   "cell_type": "code",
   "execution_count": 9,
   "id": "da7f2d7c-4421-49b3-9d79-21d5a47509c5",
   "metadata": {},
   "outputs": [],
   "source": [
    "file = open ('./file.txt', 'w')\n",
    "\n",
    "try:\n",
    "    file.write ('Hello')\n",
    "finally:\n",
    "    file.close ()"
   ]
  },
  {
   "cell_type": "code",
   "execution_count": 10,
   "id": "446d9c95-7ad3-4a9f-8b0b-c89ae95cb89d",
   "metadata": {},
   "outputs": [],
   "source": [
    "with open ('./file.txt', 'w') as file:\n",
    "    file.write ('Hello World')"
   ]
  },
  {
   "cell_type": "code",
   "execution_count": null,
   "id": "470628b7-8199-48d6-bee1-e578ccbdeda6",
   "metadata": {},
   "outputs": [],
   "source": []
  },
  {
   "cell_type": "code",
   "execution_count": null,
   "id": "67fe7c3f-f5cb-4d8f-8a65-9d3c8318cc78",
   "metadata": {},
   "outputs": [],
   "source": []
  }
 ],
 "metadata": {
  "kernelspec": {
   "display_name": "Python 3 (ipykernel)",
   "language": "python",
   "name": "python3"
  },
  "language_info": {
   "codemirror_mode": {
    "name": "ipython",
    "version": 3
   },
   "file_extension": ".py",
   "mimetype": "text/x-python",
   "name": "python",
   "nbconvert_exporter": "python",
   "pygments_lexer": "ipython3",
   "version": "3.11.5"
  }
 },
 "nbformat": 4,
 "nbformat_minor": 5
}
