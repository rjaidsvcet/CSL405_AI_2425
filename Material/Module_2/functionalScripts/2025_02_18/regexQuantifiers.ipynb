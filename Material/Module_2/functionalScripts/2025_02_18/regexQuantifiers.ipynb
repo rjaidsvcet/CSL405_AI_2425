{
 "cells": [
  {
   "cell_type": "code",
   "execution_count": 7,
   "id": "5d925e61-cb55-4320-b022-195fcb90dde9",
   "metadata": {},
   "outputs": [],
   "source": [
    "phoneNumbers = '''\n",
    "123-456-7890\n",
    "123.456.7890\n",
    "Bruce Wayne\n",
    "'''"
   ]
  },
  {
   "cell_type": "code",
   "execution_count": 8,
   "id": "6f82667b-1b6a-4798-9ee6-aa434fb29623",
   "metadata": {},
   "outputs": [],
   "source": [
    "import re"
   ]
  },
  {
   "cell_type": "markdown",
   "id": "c7de971b-e43b-4b77-b45e-fa3ccd6c5626",
   "metadata": {},
   "source": [
    "#### Range"
   ]
  },
  {
   "cell_type": "code",
   "execution_count": 10,
   "id": "804929c0-871a-44f1-9071-12476497b595",
   "metadata": {},
   "outputs": [
    {
     "name": "stdout",
     "output_type": "stream",
     "text": [
      "<re.Match object; span=(0, 1), match='\\n'>\n",
      "<re.Match object; span=(4, 5), match='-'>\n",
      "<re.Match object; span=(8, 9), match='-'>\n",
      "<re.Match object; span=(13, 14), match='\\n'>\n",
      "<re.Match object; span=(17, 18), match='.'>\n",
      "<re.Match object; span=(21, 22), match='.'>\n",
      "<re.Match object; span=(26, 27), match='\\n'>\n",
      "<re.Match object; span=(32, 33), match=' '>\n",
      "<re.Match object; span=(38, 39), match='\\n'>\n"
     ]
    }
   ],
   "source": [
    "pattern = re.compile (r'[^a-zA-Z0-9]')\n",
    "matches = pattern.finditer (phoneNumbers)\n",
    "for _ in matches:\n",
    "    print (_)"
   ]
  },
  {
   "cell_type": "code",
   "execution_count": 11,
   "id": "44f5e1a6-5b11-41ee-bb9a-7ad641be667f",
   "metadata": {},
   "outputs": [],
   "source": [
    "randomWords = '''\n",
    "bat\n",
    "cat\n",
    "mat\n",
    "pat\n",
    "rat\n",
    "'''"
   ]
  },
  {
   "cell_type": "code",
   "execution_count": 14,
   "id": "754678f7-8bb2-43bf-a2b0-b3eaf62a8294",
   "metadata": {},
   "outputs": [
    {
     "name": "stdout",
     "output_type": "stream",
     "text": [
      "<re.Match object; span=(5, 8), match='cat'>\n",
      "<re.Match object; span=(9, 12), match='mat'>\n",
      "<re.Match object; span=(13, 16), match='pat'>\n",
      "<re.Match object; span=(17, 20), match='rat'>\n"
     ]
    }
   ],
   "source": [
    "pattern = re.compile (r'[^b]at')\n",
    "matches = pattern.finditer (randomWords)\n",
    "for _ in matches:\n",
    "    print (_)"
   ]
  },
  {
   "cell_type": "code",
   "execution_count": 15,
   "id": "6b244b2c-99e4-488a-9d45-86d257219652",
   "metadata": {},
   "outputs": [
    {
     "data": {
      "text/plain": [
       "'\\n123-456-7890\\n123.456.7890\\nBruce Wayne\\n'"
      ]
     },
     "execution_count": 15,
     "metadata": {},
     "output_type": "execute_result"
    }
   ],
   "source": [
    "phoneNumbers"
   ]
  },
  {
   "cell_type": "markdown",
   "id": "0869042e-d1fe-499d-a936-0a9520498a69",
   "metadata": {},
   "source": [
    "### Use of quantifiers"
   ]
  },
  {
   "cell_type": "code",
   "execution_count": 16,
   "id": "41fb4ce2-dacb-48ff-80f2-eaa85683e5ec",
   "metadata": {},
   "outputs": [
    {
     "name": "stdout",
     "output_type": "stream",
     "text": [
      "<re.Match object; span=(1, 13), match='123-456-7890'>\n",
      "<re.Match object; span=(14, 26), match='123.456.7890'>\n"
     ]
    }
   ],
   "source": [
    "pattern = re.compile (r'\\d{3}.\\d{3}.\\d{4}')\n",
    "matches = pattern.finditer (phoneNumbers)\n",
    "for _ in matches:\n",
    "    print (_)"
   ]
  },
  {
   "cell_type": "code",
   "execution_count": 17,
   "id": "da1e8c93-ff51-4343-be69-2dbc906d2acb",
   "metadata": {},
   "outputs": [],
   "source": [
    "names = '''\n",
    "Mr. Tony\n",
    "Mr Bruce\n",
    "Ms Donna\n",
    "Mrs. Greenwich\n",
    "Mr. M\n",
    "'''"
   ]
  },
  {
   "cell_type": "code",
   "execution_count": 23,
   "id": "1c7466be-74af-4927-a92e-9cedd7c02249",
   "metadata": {},
   "outputs": [
    {
     "name": "stdout",
     "output_type": "stream",
     "text": [
      "<re.Match object; span=(1, 9), match='Mr. Tony'>\n",
      "<re.Match object; span=(10, 18), match='Mr Bruce'>\n",
      "<re.Match object; span=(19, 27), match='Ms Donna'>\n",
      "<re.Match object; span=(28, 42), match='Mrs. Greenwich'>\n",
      "<re.Match object; span=(43, 48), match='Mr. M'>\n"
     ]
    }
   ],
   "source": [
    "# pattern = re.compile (r'Mr\\.?\\s[A-Z]\\w+')\n",
    "# pattern = re.compile (r'Mr\\.?\\s[A-Z]\\w*')\n",
    "pattern = re.compile (r'M(r|s|rs)\\.?\\s[A-Z]\\w*')\n",
    "matches = pattern.finditer (names)\n",
    "for _ in matches:\n",
    "    print (_)"
   ]
  },
  {
   "cell_type": "code",
   "execution_count": 24,
   "id": "be27be7f-aa1d-42e0-ae34-92d8483c16fe",
   "metadata": {},
   "outputs": [],
   "source": [
    "emails = '''\n",
    "BruceWayne@gmail.com\n",
    "bruce.wayne@dc.edu\n",
    "bruce-123-wayne@dc-comics.net\n",
    "'''"
   ]
  },
  {
   "cell_type": "code",
   "execution_count": 28,
   "id": "dc774e00-2d5f-4f44-b1ba-1d58ce858f47",
   "metadata": {},
   "outputs": [
    {
     "name": "stdout",
     "output_type": "stream",
     "text": [
      "<re.Match object; span=(1, 21), match='BruceWayne@gmail.com'>\n",
      "<re.Match object; span=(22, 40), match='bruce.wayne@dc.edu'>\n",
      "<re.Match object; span=(41, 70), match='bruce-123-wayne@dc-comics.net'>\n"
     ]
    }
   ],
   "source": [
    "# pattern = re.compile (r'[a-zA-Z0-9]+@[a-zA-Z0-9]+\\.com')\n",
    "# pattern = re.compile (r'[a-zA-Z0-9.]+@[a-zA-Z0-9]+\\.(com|edu|net)')\n",
    "pattern = re.compile (r'[a-zA-Z0-9.-]+@[a-zA-Z-]+\\.(com|edu|net)')\n",
    "matches = pattern.finditer (emails)\n",
    "for _ in matches:\n",
    "    print (_)"
   ]
  },
  {
   "cell_type": "code",
   "execution_count": null,
   "id": "df5fca1a-5feb-4601-b86b-39304de3dbc9",
   "metadata": {},
   "outputs": [],
   "source": []
  },
  {
   "cell_type": "code",
   "execution_count": null,
   "id": "dbb26164-69ab-42fd-aaa0-865aae2a7d40",
   "metadata": {},
   "outputs": [],
   "source": []
  }
 ],
 "metadata": {
  "kernelspec": {
   "display_name": "Python 3 (ipykernel)",
   "language": "python",
   "name": "python3"
  },
  "language_info": {
   "codemirror_mode": {
    "name": "ipython",
    "version": 3
   },
   "file_extension": ".py",
   "mimetype": "text/x-python",
   "name": "python",
   "nbconvert_exporter": "python",
   "pygments_lexer": "ipython3",
   "version": "3.11.5"
  }
 },
 "nbformat": 4,
 "nbformat_minor": 5
}
