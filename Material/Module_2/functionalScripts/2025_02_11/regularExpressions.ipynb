{
 "cells": [
  {
   "cell_type": "code",
   "execution_count": 2,
   "id": "ec198873-1876-4ab8-b120-857868f7194f",
   "metadata": {},
   "outputs": [],
   "source": [
    "textToSearch = '''\n",
    "abcdefghijklmnopqrstuvwxyz\n",
    "ABCEDFGHIJKLMNOPQRSTUVWXYZ\n",
    "\n",
    "Ha HaHa\n",
    "\n",
    ". ^ $ * + ? { } [ ] \\ | ( )\n",
    "\n",
    "google.com\n",
    "\n",
    "123-456-7890\n",
    "123.456.7890\n",
    "\n",
    "Mr. Ramesh\n",
    "Mr Suresh\n",
    "Ms Shital\n",
    "Mrs. Garima\n",
    "Mr. R\n",
    "'''"
   ]
  },
  {
   "cell_type": "code",
   "execution_count": 3,
   "id": "446cdc05-ff9a-4140-843f-78c7ff9c2371",
   "metadata": {},
   "outputs": [],
   "source": [
    "import re"
   ]
  },
  {
   "cell_type": "code",
   "execution_count": 4,
   "id": "ea38ffd6-62ba-4aad-b08c-ed2ef7d95b1d",
   "metadata": {},
   "outputs": [
    {
     "name": "stdout",
     "output_type": "stream",
     "text": [
      "\tTab\n"
     ]
    }
   ],
   "source": [
    "print ('\\tTab')"
   ]
  },
  {
   "cell_type": "code",
   "execution_count": 5,
   "id": "116e35ab-510a-487b-8428-2fc45bb2a3c4",
   "metadata": {},
   "outputs": [
    {
     "name": "stdout",
     "output_type": "stream",
     "text": [
      "\\tTab\n"
     ]
    }
   ],
   "source": [
    "print (r'\\tTab')"
   ]
  },
  {
   "cell_type": "code",
   "execution_count": 7,
   "id": "c47dc969-371c-475e-9613-61d1d95ae5ab",
   "metadata": {},
   "outputs": [
    {
     "name": "stdout",
     "output_type": "stream",
     "text": [
      "<re.Match object; span=(1, 4), match='abc'>\n"
     ]
    }
   ],
   "source": [
    "pattern = re.compile (r'abc')\n",
    "matches = pattern.finditer (textToSearch)\n",
    "for _ in matches:\n",
    "    print (_)"
   ]
  },
  {
   "cell_type": "code",
   "execution_count": 10,
   "id": "7e4e9068-944f-407a-8370-677e9f0ff5c1",
   "metadata": {},
   "outputs": [
    {
     "name": "stdout",
     "output_type": "stream",
     "text": [
      "<re.Match object; span=(65, 66), match='.'>\n",
      "<re.Match object; span=(100, 101), match='.'>\n",
      "<re.Match object; span=(122, 123), match='.'>\n",
      "<re.Match object; span=(126, 127), match='.'>\n",
      "<re.Match object; span=(135, 136), match='.'>\n",
      "<re.Match object; span=(167, 168), match='.'>\n",
      "<re.Match object; span=(178, 179), match='.'>\n"
     ]
    }
   ],
   "source": [
    "pattern = re.compile (r'\\.')\n",
    "matches = pattern.finditer (textToSearch)\n",
    "for _ in matches:\n",
    "    print (_)"
   ]
  },
  {
   "cell_type": "code",
   "execution_count": 16,
   "id": "3a607c38-f2d5-4f81-baae-7ba02b3a66bf",
   "metadata": {},
   "outputs": [
    {
     "name": "stdout",
     "output_type": "stream",
     "text": [
      "<re.Match object; span=(1, 2), match='a'>\n",
      "<re.Match object; span=(2, 3), match='b'>\n",
      "<re.Match object; span=(3, 4), match='c'>\n",
      "<re.Match object; span=(4, 5), match='d'>\n",
      "<re.Match object; span=(5, 6), match='e'>\n",
      "<re.Match object; span=(6, 7), match='f'>\n",
      "<re.Match object; span=(7, 8), match='g'>\n",
      "<re.Match object; span=(8, 9), match='h'>\n",
      "<re.Match object; span=(9, 10), match='i'>\n",
      "<re.Match object; span=(10, 11), match='j'>\n",
      "<re.Match object; span=(11, 12), match='k'>\n",
      "<re.Match object; span=(12, 13), match='l'>\n",
      "<re.Match object; span=(13, 14), match='m'>\n",
      "<re.Match object; span=(14, 15), match='n'>\n",
      "<re.Match object; span=(15, 16), match='o'>\n",
      "<re.Match object; span=(16, 17), match='p'>\n",
      "<re.Match object; span=(17, 18), match='q'>\n",
      "<re.Match object; span=(18, 19), match='r'>\n",
      "<re.Match object; span=(19, 20), match='s'>\n",
      "<re.Match object; span=(20, 21), match='t'>\n",
      "<re.Match object; span=(21, 22), match='u'>\n",
      "<re.Match object; span=(22, 23), match='v'>\n",
      "<re.Match object; span=(23, 24), match='w'>\n",
      "<re.Match object; span=(24, 25), match='x'>\n",
      "<re.Match object; span=(25, 26), match='y'>\n",
      "<re.Match object; span=(26, 27), match='z'>\n",
      "<re.Match object; span=(28, 29), match='A'>\n",
      "<re.Match object; span=(29, 30), match='B'>\n",
      "<re.Match object; span=(30, 31), match='C'>\n",
      "<re.Match object; span=(31, 32), match='E'>\n",
      "<re.Match object; span=(32, 33), match='D'>\n",
      "<re.Match object; span=(33, 34), match='F'>\n",
      "<re.Match object; span=(34, 35), match='G'>\n",
      "<re.Match object; span=(35, 36), match='H'>\n",
      "<re.Match object; span=(36, 37), match='I'>\n",
      "<re.Match object; span=(37, 38), match='J'>\n",
      "<re.Match object; span=(38, 39), match='K'>\n",
      "<re.Match object; span=(39, 40), match='L'>\n",
      "<re.Match object; span=(40, 41), match='M'>\n",
      "<re.Match object; span=(41, 42), match='N'>\n",
      "<re.Match object; span=(42, 43), match='O'>\n",
      "<re.Match object; span=(43, 44), match='P'>\n",
      "<re.Match object; span=(44, 45), match='Q'>\n",
      "<re.Match object; span=(45, 46), match='R'>\n",
      "<re.Match object; span=(46, 47), match='S'>\n",
      "<re.Match object; span=(47, 48), match='T'>\n",
      "<re.Match object; span=(48, 49), match='U'>\n",
      "<re.Match object; span=(49, 50), match='V'>\n",
      "<re.Match object; span=(50, 51), match='W'>\n",
      "<re.Match object; span=(51, 52), match='X'>\n",
      "<re.Match object; span=(52, 53), match='Y'>\n",
      "<re.Match object; span=(53, 54), match='Z'>\n",
      "<re.Match object; span=(56, 57), match='H'>\n",
      "<re.Match object; span=(57, 58), match='a'>\n",
      "<re.Match object; span=(59, 60), match='H'>\n",
      "<re.Match object; span=(60, 61), match='a'>\n",
      "<re.Match object; span=(61, 62), match='H'>\n",
      "<re.Match object; span=(62, 63), match='a'>\n",
      "<re.Match object; span=(65, 66), match='.'>\n",
      "<re.Match object; span=(67, 68), match='^'>\n",
      "<re.Match object; span=(69, 70), match='$'>\n",
      "<re.Match object; span=(71, 72), match='*'>\n",
      "<re.Match object; span=(73, 74), match='+'>\n",
      "<re.Match object; span=(75, 76), match='?'>\n",
      "<re.Match object; span=(77, 78), match='{'>\n",
      "<re.Match object; span=(79, 80), match='}'>\n",
      "<re.Match object; span=(81, 82), match='['>\n",
      "<re.Match object; span=(83, 84), match=']'>\n",
      "<re.Match object; span=(85, 86), match='\\\\'>\n",
      "<re.Match object; span=(87, 88), match='|'>\n",
      "<re.Match object; span=(89, 90), match='('>\n",
      "<re.Match object; span=(91, 92), match=')'>\n",
      "<re.Match object; span=(94, 95), match='g'>\n",
      "<re.Match object; span=(95, 96), match='o'>\n",
      "<re.Match object; span=(96, 97), match='o'>\n",
      "<re.Match object; span=(97, 98), match='g'>\n",
      "<re.Match object; span=(98, 99), match='l'>\n",
      "<re.Match object; span=(99, 100), match='e'>\n",
      "<re.Match object; span=(100, 101), match='.'>\n",
      "<re.Match object; span=(101, 102), match='c'>\n",
      "<re.Match object; span=(102, 103), match='o'>\n",
      "<re.Match object; span=(103, 104), match='m'>\n",
      "<re.Match object; span=(106, 107), match='1'>\n",
      "<re.Match object; span=(107, 108), match='2'>\n",
      "<re.Match object; span=(108, 109), match='3'>\n",
      "<re.Match object; span=(109, 110), match='-'>\n",
      "<re.Match object; span=(110, 111), match='4'>\n",
      "<re.Match object; span=(111, 112), match='5'>\n",
      "<re.Match object; span=(112, 113), match='6'>\n",
      "<re.Match object; span=(113, 114), match='-'>\n",
      "<re.Match object; span=(114, 115), match='7'>\n",
      "<re.Match object; span=(115, 116), match='8'>\n",
      "<re.Match object; span=(116, 117), match='9'>\n",
      "<re.Match object; span=(117, 118), match='0'>\n",
      "<re.Match object; span=(119, 120), match='1'>\n",
      "<re.Match object; span=(120, 121), match='2'>\n",
      "<re.Match object; span=(121, 122), match='3'>\n",
      "<re.Match object; span=(122, 123), match='.'>\n",
      "<re.Match object; span=(123, 124), match='4'>\n",
      "<re.Match object; span=(124, 125), match='5'>\n",
      "<re.Match object; span=(125, 126), match='6'>\n",
      "<re.Match object; span=(126, 127), match='.'>\n",
      "<re.Match object; span=(127, 128), match='7'>\n",
      "<re.Match object; span=(128, 129), match='8'>\n",
      "<re.Match object; span=(129, 130), match='9'>\n",
      "<re.Match object; span=(130, 131), match='0'>\n",
      "<re.Match object; span=(133, 134), match='M'>\n",
      "<re.Match object; span=(134, 135), match='r'>\n",
      "<re.Match object; span=(135, 136), match='.'>\n",
      "<re.Match object; span=(137, 138), match='R'>\n",
      "<re.Match object; span=(138, 139), match='a'>\n",
      "<re.Match object; span=(139, 140), match='m'>\n",
      "<re.Match object; span=(140, 141), match='e'>\n",
      "<re.Match object; span=(141, 142), match='s'>\n",
      "<re.Match object; span=(142, 143), match='h'>\n",
      "<re.Match object; span=(144, 145), match='M'>\n",
      "<re.Match object; span=(145, 146), match='r'>\n",
      "<re.Match object; span=(147, 148), match='S'>\n",
      "<re.Match object; span=(148, 149), match='u'>\n",
      "<re.Match object; span=(149, 150), match='r'>\n",
      "<re.Match object; span=(150, 151), match='e'>\n",
      "<re.Match object; span=(151, 152), match='s'>\n",
      "<re.Match object; span=(152, 153), match='h'>\n",
      "<re.Match object; span=(154, 155), match='M'>\n",
      "<re.Match object; span=(155, 156), match='s'>\n",
      "<re.Match object; span=(157, 158), match='S'>\n",
      "<re.Match object; span=(158, 159), match='h'>\n",
      "<re.Match object; span=(159, 160), match='i'>\n",
      "<re.Match object; span=(160, 161), match='t'>\n",
      "<re.Match object; span=(161, 162), match='a'>\n",
      "<re.Match object; span=(162, 163), match='l'>\n",
      "<re.Match object; span=(164, 165), match='M'>\n",
      "<re.Match object; span=(165, 166), match='r'>\n",
      "<re.Match object; span=(166, 167), match='s'>\n",
      "<re.Match object; span=(167, 168), match='.'>\n",
      "<re.Match object; span=(169, 170), match='G'>\n",
      "<re.Match object; span=(170, 171), match='a'>\n",
      "<re.Match object; span=(171, 172), match='r'>\n",
      "<re.Match object; span=(172, 173), match='i'>\n",
      "<re.Match object; span=(173, 174), match='m'>\n",
      "<re.Match object; span=(174, 175), match='a'>\n",
      "<re.Match object; span=(176, 177), match='M'>\n",
      "<re.Match object; span=(177, 178), match='r'>\n",
      "<re.Match object; span=(178, 179), match='.'>\n",
      "<re.Match object; span=(180, 181), match='R'>\n"
     ]
    }
   ],
   "source": [
    "# pattern = re.compile (r'\\d')\n",
    "# pattern = re.compile (r'\\D')\n",
    "# pattern = re.compile (r'\\w)\n",
    "# pattern = re.compile (r'\\W')\n",
    "# pattern = re.compile (r'\\s')\n",
    "pattern = re.compile (r'\\S')\n",
    "matches = pattern.finditer (textToSearch)\n",
    "for _ in matches:\n",
    "    print (_)"
   ]
  },
  {
   "cell_type": "code",
   "execution_count": 17,
   "id": "0547afbb-b6b7-48ff-9fe0-6db87b5c116c",
   "metadata": {},
   "outputs": [],
   "source": [
    "trialText = 'Ha HaHa'"
   ]
  },
  {
   "cell_type": "code",
   "execution_count": 19,
   "id": "675694c0-ac1c-48de-a39d-0ba1fefc91a5",
   "metadata": {},
   "outputs": [
    {
     "name": "stdout",
     "output_type": "stream",
     "text": [
      "<re.Match object; span=(5, 7), match='Ha'>\n"
     ]
    }
   ],
   "source": [
    "# pattern = re.compile (r'\\bHa')\n",
    "pattern = re.compile (r'\\BHa')\n",
    "matches = pattern.finditer (trialText)\n",
    "for _ in matches:\n",
    "    print (_)"
   ]
  },
  {
   "cell_type": "code",
   "execution_count": 23,
   "id": "603b704c-bf87-4766-9e54-89f6d1b6b098",
   "metadata": {},
   "outputs": [
    {
     "name": "stdout",
     "output_type": "stream",
     "text": [
      "<re.Match object; span=(15, 21), match='string'>\n"
     ]
    }
   ],
   "source": [
    "sampleString = 'Sample generic string'\n",
    "\n",
    "# pattern = re.compile (r'^Sample')\n",
    "pattern = re.compile (r'string$')\n",
    "matches = pattern.finditer (sampleString)\n",
    "for _ in matches:\n",
    "    print (_)"
   ]
  },
  {
   "cell_type": "code",
   "execution_count": 24,
   "id": "a25b156d-23d9-4de0-944d-e03e4c61341c",
   "metadata": {},
   "outputs": [],
   "source": [
    "phoneNumbers = '''\n",
    "123-456-7890\n",
    "123.456.7890\n",
    "123--456--7890\n",
    "123*456*7890\n",
    "800-456-7890\n",
    "900-456-7890\n",
    "'''"
   ]
  },
  {
   "cell_type": "code",
   "execution_count": 27,
   "id": "805eb097-2427-47b4-9377-662222a4d48d",
   "metadata": {},
   "outputs": [
    {
     "name": "stdout",
     "output_type": "stream",
     "text": [
      "<re.Match object; span=(55, 67), match='800-456-7890'>\n",
      "<re.Match object; span=(68, 80), match='900-456-7890'>\n"
     ]
    }
   ],
   "source": [
    "# pattern = re.compile (r'\\d\\d\\d.\\d\\d\\d.\\d\\d\\d')\n",
    "# pattern = re.compile (r'\\d\\d\\d[-.]\\d\\d\\d[-.]\\d\\d\\d\\d')\n",
    "pattern = re.compile (r'[89]00[-.]\\d\\d\\d[-.]\\d\\d\\d\\d')\n",
    "matches = pattern.finditer (phoneNumbers)\n",
    "for _ in matches:\n",
    "    print (_)"
   ]
  },
  {
   "cell_type": "code",
   "execution_count": null,
   "id": "98852dac-c55e-4d85-8ebf-b8479a3a7a1f",
   "metadata": {},
   "outputs": [],
   "source": []
  },
  {
   "cell_type": "code",
   "execution_count": null,
   "id": "a82b8224-5e85-4caa-a53d-3c9c3634e6a4",
   "metadata": {},
   "outputs": [],
   "source": []
  },
  {
   "cell_type": "code",
   "execution_count": null,
   "id": "1bf4be73-d705-4993-b7fe-d6958abd19a3",
   "metadata": {},
   "outputs": [],
   "source": []
  },
  {
   "cell_type": "code",
   "execution_count": null,
   "id": "8c5c6e42-d0d5-42e8-8fc0-50bd752d7165",
   "metadata": {},
   "outputs": [],
   "source": []
  }
 ],
 "metadata": {
  "kernelspec": {
   "display_name": "Python 3 (ipykernel)",
   "language": "python",
   "name": "python3"
  },
  "language_info": {
   "codemirror_mode": {
    "name": "ipython",
    "version": 3
   },
   "file_extension": ".py",
   "mimetype": "text/x-python",
   "name": "python",
   "nbconvert_exporter": "python",
   "pygments_lexer": "ipython3",
   "version": "3.11.5"
  }
 },
 "nbformat": 4,
 "nbformat_minor": 5
}
